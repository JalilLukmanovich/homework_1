{
 "cells": [
  {
   "cell_type": "markdown",
   "metadata": {},
   "source": [
    "**Задание 1**. Даны 2 строки: *long_phrase* и *short_phrase*. \n",
    "Напишите код, который проверяет действительно ли длинная фраза *long_phrase* длиннее короткой *short_phrase*. И выводит *True* или *False* в зависимости от результата сравнения."
   ]
  },
  {
   "cell_type": "code",
   "execution_count": 3,
   "metadata": {},
   "outputs": [],
   "source": [
    "long_phrase = 'Насколько проще было бы писать программы, если бы не заказчики'\n",
    "short_phrase = '640Кб должно хватить для любых задач. Билл Гейтс (по легенде)'"
   ]
  },
  {
   "cell_type": "code",
   "execution_count": 5,
   "metadata": {},
   "outputs": [
    {
     "name": "stdout",
     "output_type": "stream",
     "text": [
      "True\n"
     ]
    }
   ],
   "source": [
    "if len(long_phrase)> len (short_phrase):\n",
    "    print(\"True\")\n",
    "else:\n",
    "    print(\"False\")"
   ]
  },
  {
   "cell_type": "markdown",
   "metadata": {},
   "source": [
    "**Задание 2**. Дано значение объема файла в байтах. Напишите перевод этого значения в мегабайты в формате: \"*Объем файла равен 213.68Mb*\""
   ]
  },
  {
   "cell_type": "code",
   "execution_count": 23,
   "metadata": {},
   "outputs": [
    {
     "name": "stdout",
     "output_type": "stream",
     "text": [
      "Объем файла равен 213.68 Mb\n"
     ]
    }
   ],
   "source": [
    "x = 213680000\n",
    "b=x/1000000\n",
    "print('Объем файла равен', b,'Mb')"
   ]
  },
  {
   "cell_type": "markdown",
   "metadata": {},
   "source": [
    "**Задание 3**. Разработать приложение для определения знака зодиака по дате рождения. Пример:\n",
    "\n",
    "Введите месяц: март\n",
    "\n",
    "Введите число: 6\n",
    "\n",
    "Вывод:\n",
    "Рыбы"
   ]
  },
  {
   "cell_type": "code",
   "execution_count": 4,
   "metadata": {},
   "outputs": [
    {
     "name": "stdout",
     "output_type": "stream",
     "text": [
      "Введите месяциюль\n",
      "Введите число23\n",
      "лев\n"
     ]
    }
   ],
   "source": [
    "month = input('Введите месяц', )\n",
    "day = int(input('Введите число', ))\n",
    "if ((day >= 21 and month == 'март') or (day <= 19 and month == 'апрель')):\n",
    "    print('овен')\n",
    "elif ((day >= 20 and month == 'апрель') or (day <= 20 and month == 'май')):\n",
    "    print('телец')\n",
    "elif ((day >= 21 and month == 'май') or (day <= 20 and month == 'июнь')):\n",
    "    print('близнецы')\n",
    "elif ((day >= 21 and month == 'июнь') or (day <= 22 and month == 'июль')):\n",
    "    print('рак')\n",
    "elif ((day >= 23 and month == 'июль') or (day <= 22 and month == 'август')):\n",
    "    print('лев')\n",
    "elif ((day >= 23 and month == 'августа') or (day <= 22 and month == 'сентябрь')):\n",
    "    print('дева')\n",
    "elif ((day >= 23 and month == 'сентябрь') or (day <= 22 and month == 'октябрь')):\n",
    "    print('весы')\n",
    "elif ((day >= 23 and month == 'октябрь') or (day <= 21 and month == 'ноябрь')):\n",
    "    print('скорпион')\n",
    "elif ((day >= 22 and month == 'ноябрь') or (day <= 21 and month == 'декабрь')):\n",
    "    print('стрелец')\n",
    "elif ((day >= 22 and month == 'декабрь') or (day <= 19 and month == 'январь')):\n",
    "    print('козерог')\n",
    "elif ((day >= 20 and month == 'январь') or (day <= 18 and month == 'февраль')):\n",
    "    print('водолей')\n",
    "elif ((day >= 19 and month == 'февраль') or (day <= 20 and month == 'март')):\n",
    "    print('рыбы')  "
   ]
  },
  {
   "cell_type": "markdown",
   "metadata": {},
   "source": [
    "**Задание 4**. Нужно разработать приложение для финансового планирования.\n",
    "Приложение учитывает сколько уходит на ипотеку, \"на жизнь\" и сколько нужно отложить на пенсию.\n",
    "Пользователь вводит:\n",
    "- заработанную плату в месяц.\n",
    "- сколько процентов от ЗП уходит на ипотеку.\n",
    "- сколько процентов от ЗП уходит \"на жизнь\".\n",
    "- сколько раз приходит премия в год.\n",
    "\n",
    "Остальная часть заработанной платы откладывается на пенсию.\n",
    "\n",
    "Также пользователю приходит премия в размере зарплаты, от которой половина уходит на отпуск, а вторая половина откладывается.\n",
    "\n",
    "Программа должна учитывать сколько премий было в год.\n",
    "\n",
    "Нужно вывести сколько денег тратит пользователь на ипотеку и сколько он накопит за год.\n",
    "\n",
    "Пример:\n",
    "\n",
    "Введите заработанную плату в месяц: 100000\n",
    "\n",
    "Введите сколько процентов уходит на ипотеку: 30\n",
    "\n",
    "Введите сколько процентов уходит на жизнь: 50\n",
    "\n",
    "Введите количество премий за год: 2\n",
    "\n",
    "Вывод:\n",
    "На ипотеку было потрачено: 360000 рублей\n",
    "Было накоплено: 340000 рублей."
   ]
  },
  {
   "cell_type": "code",
   "execution_count": 1,
   "metadata": {},
   "outputs": [
    {
     "name": "stdout",
     "output_type": "stream",
     "text": [
      "Введите заработанную плату в месяц:100000\n",
      "Введите сколько процентов уходит на ипотеку:50\n",
      "Введите сколько процентов уходит на жизнь:10\n",
      "Введите количество премий за год:2\n",
      "На ипотеку было потрачено: 600000.0\n",
      "Было накоплено: 1680000.0\n"
     ]
    }
   ],
   "source": [
    "salary=int(input('Введите заработанную плату в месяц:',))\n",
    "payment_interest_credit=int(input('Введите сколько процентов уходит на ипотеку:',))\n",
    "payment_interest_live=int(input('Введите сколько процентов уходит на жизнь:',))\n",
    "count_premium=int(input('Введите количество премий за год:',))\n",
    "accumul_cach_total=salary*12+count_premium*salary/2*12-salary*(payment_interest_credit/100)*12-salary*(payment_interest_live/100)*12\n",
    "payment_interest_credit_total=salary*(payment_interest_credit/100)*12\n",
    "print ('На ипотеку было потрачено:', payment_interest_credit_total)\n",
    "print('Было накоплено:', accumul_cach_total)"
   ]
  },
  {
   "cell_type": "code",
   "execution_count": null,
   "metadata": {},
   "outputs": [],
   "source": []
  }
 ],
 "metadata": {
  "kernelspec": {
   "display_name": "Python 3",
   "language": "python",
   "name": "python3"
  },
  "language_info": {
   "codemirror_mode": {
    "name": "ipython",
    "version": 3
   },
   "file_extension": ".py",
   "mimetype": "text/x-python",
   "name": "python",
   "nbconvert_exporter": "python",
   "pygments_lexer": "ipython3",
   "version": "3.7.4"
  }
 },
 "nbformat": 4,
 "nbformat_minor": 2
}
